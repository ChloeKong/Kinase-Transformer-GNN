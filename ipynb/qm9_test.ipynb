{
 "cells": [
  {
   "cell_type": "markdown",
   "metadata": {},
   "source": [
    "# MPNN训练 QM9"
   ]
  },
  {
   "cell_type": "markdown",
   "metadata": {},
   "source": [
    "## 添加包环境路径"
   ]
  },
  {
   "cell_type": "code",
   "execution_count": 1,
   "metadata": {},
   "outputs": [],
   "source": [
    "import torch\n",
    "import torch.nn.functional as F\n",
    "from torch.nn import Sequential, Linear, ReLU, GRU\n",
    "\n",
    "import torch_geometric.transforms as T\n",
    "from torch_geometric.nn import NNConv, Set2Set\n",
    "from torch_geometric.data import DataLoader\n",
    "from torch_geometric.utils import remove_self_loops"
   ]
  },
  {
   "cell_type": "code",
   "execution_count": 2,
   "metadata": {},
   "outputs": [],
   "source": [
    "import sys\n",
    "sys.path.append('/Users/yuekong/Desktop/Github/Kinase-Transformer-GNN')\n",
    "from molecular_network.mol_dataset import QM9"
   ]
  },
  {
   "cell_type": "markdown",
   "metadata": {},
   "source": [
    "# 载入数据集"
   ]
  },
  {
   "cell_type": "code",
   "execution_count": 3,
   "metadata": {},
   "outputs": [],
   "source": [
    "target = 1 # 预测第几个性质\n",
    "dim = 64\n",
    "training_size = 1000 # 控制training set的大小"
   ]
  },
  {
   "cell_type": "code",
   "execution_count": 4,
   "metadata": {},
   "outputs": [
    {
     "output_type": "execute_result",
     "data": {
      "text/plain": "torch.Size([129433, 19])"
     },
     "metadata": {},
     "execution_count": 4
    }
   ],
   "source": [
    "root = '/Users/yuekong/Desktop/Github/Kinase-Transformer-GNN/data/QM9'\n",
    "dataset = QM9(root).shuffle()\n",
    "dataset.data.y.shape"
   ]
  },
  {
   "cell_type": "markdown",
   "metadata": {},
   "source": [
    "# 归一化数据集"
   ]
  },
  {
   "cell_type": "code",
   "execution_count": 5,
   "metadata": {},
   "outputs": [],
   "source": [
    "dataset.data.y = dataset.data.y[:,target] #指定需要预测的性质"
   ]
  },
  {
   "cell_type": "code",
   "execution_count": 6,
   "metadata": {},
   "outputs": [],
   "source": [
    "# Normalize targets to mean = 0 and std = 1.\n",
    "mean = dataset.data.y.mean(dim=0, keepdim=True)\n",
    "std = dataset.data.y.std(dim=0, keepdim=True)\n",
    "dataset.data.y = (dataset.data.y - mean) / std ## 只考虑第1个性质"
   ]
  },
  {
   "cell_type": "markdown",
   "metadata": {},
   "source": [
    "# 划分训练集"
   ]
  },
  {
   "cell_type": "code",
   "execution_count": 7,
   "metadata": {
    "tags": []
   },
   "outputs": [
    {
     "output_type": "stream",
     "name": "stdout",
     "text": "------loader loaded------\n"
    }
   ],
   "source": [
    "# Split datasets.\n",
    "test_dataset = dataset[:10000]\n",
    "val_dataset = dataset[10000:20000]\n",
    "train_dataset = dataset[20000:20000+training_size]\n",
    "test_loader = DataLoader(test_dataset, batch_size=128, shuffle=False)\n",
    "val_loader = DataLoader(val_dataset, batch_size=128, shuffle=False)\n",
    "train_loader = DataLoader(train_dataset, batch_size=128, shuffle=True)\n",
    "print('------loader loaded------')\n"
   ]
  },
  {
   "cell_type": "markdown",
   "metadata": {},
   "source": [
    "# 定义模型"
   ]
  },
  {
   "cell_type": "code",
   "execution_count": 8,
   "metadata": {},
   "outputs": [],
   "source": [
    "class Net(torch.nn.Module):\n",
    "    def __init__(self):\n",
    "        super(Net, self).__init__()\n",
    "        self.lin0 = torch.nn.Linear(dataset.num_features, dim)\n",
    "\n",
    "        # 这个nn是每个节点在message中用到的网络,5对应边特征数 \n",
    "        # 注：此脚本中transform部分把edge_attr变成了5，而不是本来的4\n",
    "        nn = Sequential(Linear(4, 128), ReLU(), Linear(128, dim * dim))\n",
    "        self.conv = NNConv(dim, dim, nn, aggr='mean')\n",
    "        self.gru = GRU(dim, dim)\n",
    "\n",
    "        self.set2set = Set2Set(dim, processing_steps=3)\n",
    "        self.lin1 = torch.nn.Linear(2 * dim, dim)\n",
    "        self.lin2 = torch.nn.Linear(dim, 1)\n",
    "\n",
    "    def forward(self, data):\n",
    "        out = F.relu(self.lin0(data.x))\n",
    "        h = out.unsqueeze(0)\n",
    "\n",
    "        for i in range(3):\n",
    "            m = F.relu(self.conv(out, data.edge_index, data.edge_attr))\n",
    "            out, h = self.gru(m.unsqueeze(0), h)\n",
    "            out = out.squeeze(0)\n",
    "\n",
    "        out = self.set2set(out, data.batch)\n",
    "        out = F.relu(self.lin1(out))\n",
    "        out = self.lin2(out)\n",
    "        return out.view(-1)"
   ]
  },
  {
   "cell_type": "markdown",
   "metadata": {},
   "source": [
    "# 训练前"
   ]
  },
  {
   "cell_type": "code",
   "execution_count": 9,
   "metadata": {},
   "outputs": [],
   "source": [
    "device = torch.device('cuda' if torch.cuda.is_available() else 'cpu')\n",
    "model = Net().to(device)\n",
    "optimizer = torch.optim.Adam(model.parameters(), lr=0.001)\n",
    "scheduler = torch.optim.lr_scheduler.ReduceLROnPlateau(optimizer, mode='min',\n",
    "                                                       factor=0.7, patience=5,\n",
    "                                                       min_lr=0.00001)"
   ]
  },
  {
   "cell_type": "markdown",
   "metadata": {},
   "source": [
    "# 定义训练+测试"
   ]
  },
  {
   "cell_type": "code",
   "execution_count": 10,
   "metadata": {},
   "outputs": [],
   "source": [
    "def train(epoch):\n",
    "    model.train()\n",
    "    loss_all = 0\n",
    "\n",
    "    for data in train_loader:\n",
    "        data = data.to(device)\n",
    "        optimizer.zero_grad()\n",
    "        loss = F.mse_loss(model(data), data.y)\n",
    "        loss.backward()\n",
    "        loss_all += loss.item() * data.num_graphs\n",
    "        optimizer.step()\n",
    "    return loss_all / len(train_loader.dataset)\n",
    "\n",
    "\n",
    "def test(loader):\n",
    "    model.eval()\n",
    "    error = 0\n",
    "\n",
    "    for data in loader:\n",
    "        data = data.to(device)\n",
    "        error += (model(data) * std - data.y * std).abs().sum().item()  # MAE\n",
    "    return error / len(loader.dataset)"
   ]
  },
  {
   "cell_type": "markdown",
   "metadata": {},
   "source": [
    "# 训练！"
   ]
  },
  {
   "cell_type": "code",
   "execution_count": 11,
   "metadata": {
    "tags": []
   },
   "outputs": [
    {
     "output_type": "stream",
     "name": "stdout",
     "text": "-----------training begin-------------\nEpoch: 001, LR: 0.001000, Loss: 0.9404447, Validation MAE: 5.9132945, Test MAE: 5.8557571\n-----------training begin-------------\nEpoch: 002, LR: 0.001000, Loss: 0.8170270, Validation MAE: 5.2463203, Test MAE: 5.1783432\n-----------training begin-------------\nEpoch: 003, LR: 0.001000, Loss: 0.7350863, Validation MAE: 5.1489918, Test MAE: 5.0882465\n-----------training begin-------------\nEpoch: 004, LR: 0.001000, Loss: 0.6320461, Validation MAE: 4.2431879, Test MAE: 4.1845278\n-----------training begin-------------\nEpoch: 005, LR: 0.001000, Loss: 0.5415218, Validation MAE: 3.9576328, Test MAE: 3.8924049\n-----------training begin-------------\nEpoch: 006, LR: 0.001000, Loss: 0.5696692, Validation MAE: 3.7827002, Test MAE: 3.7261785\n-----------training begin-------------\nEpoch: 007, LR: 0.001000, Loss: 0.5497057, Validation MAE: 5.1088794, Test MAE: 3.7261785\n-----------training begin-------------\nEpoch: 008, LR: 0.001000, Loss: 0.5135244, Validation MAE: 4.4300412, Test MAE: 3.7261785\n-----------training begin-------------\nEpoch: 009, LR: 0.001000, Loss: 0.4571494, Validation MAE: 3.6614933, Test MAE: 3.5926093\n-----------training begin-------------\nEpoch: 010, LR: 0.001000, Loss: 0.4335336, Validation MAE: 3.6423852, Test MAE: 3.5736932\n-----------training begin-------------\nEpoch: 011, LR: 0.001000, Loss: 0.4227970, Validation MAE: 3.4704957, Test MAE: 3.4032210\n-----------training begin-------------\nEpoch: 012, LR: 0.001000, Loss: 0.4192363, Validation MAE: 3.3490330, Test MAE: 3.3081949\n-----------training begin-------------\nEpoch: 013, LR: 0.001000, Loss: 0.4280658, Validation MAE: 4.0172696, Test MAE: 3.3081949\n-----------training begin-------------\nEpoch: 014, LR: 0.001000, Loss: 0.4145207, Validation MAE: 3.3446065, Test MAE: 3.3038342\n-----------training begin-------------\nEpoch: 015, LR: 0.001000, Loss: 0.4129969, Validation MAE: 3.3340697, Test MAE: 3.2802738\n-----------training begin-------------\nEpoch: 016, LR: 0.001000, Loss: 0.4030044, Validation MAE: 4.0342199, Test MAE: 3.2802738\n-----------training begin-------------\nEpoch: 017, LR: 0.001000, Loss: 0.4038823, Validation MAE: 3.2135679, Test MAE: 3.1617700\n-----------training begin-------------\nEpoch: 018, LR: 0.001000, Loss: 0.3932209, Validation MAE: 3.8825646, Test MAE: 3.1617700\n-----------training begin-------------\nEpoch: 019, LR: 0.001000, Loss: 0.3939304, Validation MAE: 3.2013301, Test MAE: 3.1723059\n-----------training begin-------------\nEpoch: 020, LR: 0.001000, Loss: 0.4034020, Validation MAE: 4.4454790, Test MAE: 3.1723059\n-----------training begin-------------\nEpoch: 021, LR: 0.001000, Loss: 0.3941142, Validation MAE: 3.3241360, Test MAE: 3.1723059\n-----------training begin-------------\nEpoch: 022, LR: 0.001000, Loss: 0.4005119, Validation MAE: 4.7978916, Test MAE: 3.1723059\n-----------training begin-------------\nEpoch: 023, LR: 0.001000, Loss: 0.4398464, Validation MAE: 3.5731894, Test MAE: 3.1723059\n-----------training begin-------------\nEpoch: 024, LR: 0.001000, Loss: 0.4433972, Validation MAE: 3.8546372, Test MAE: 3.1723059\n-----------training begin-------------\nEpoch: 025, LR: 0.001000, Loss: 0.4233993, Validation MAE: 4.2886806, Test MAE: 3.1723059\n-----------training begin-------------\nEpoch: 026, LR: 0.000700, Loss: 0.4026080, Validation MAE: 3.3836737, Test MAE: 3.1723059\n-----------training begin-------------\nEpoch: 027, LR: 0.000700, Loss: 0.3753902, Validation MAE: 3.8417713, Test MAE: 3.1723059\n-----------training begin-------------\nEpoch: 028, LR: 0.000700, Loss: 0.3702409, Validation MAE: 3.3016207, Test MAE: 3.1723059\n-----------training begin-------------\nEpoch: 029, LR: 0.000700, Loss: 0.3721265, Validation MAE: 3.4459743, Test MAE: 3.1723059\n-----------training begin-------------\nEpoch: 030, LR: 0.000700, Loss: 0.3693844, Validation MAE: 3.4719491, Test MAE: 3.1723059\n-----------training begin-------------\nEpoch: 031, LR: 0.000700, Loss: 0.3578467, Validation MAE: 3.1979463, Test MAE: 3.1575541\n-----------training begin-------------\nEpoch: 032, LR: 0.000700, Loss: 0.3574645, Validation MAE: 3.7869751, Test MAE: 3.1575541\n-----------training begin-------------\nEpoch: 033, LR: 0.000700, Loss: 0.3483537, Validation MAE: 3.5771720, Test MAE: 3.1575541\n-----------training begin-------------\nEpoch: 034, LR: 0.000700, Loss: 0.3481556, Validation MAE: 4.3525204, Test MAE: 3.1575541\n-----------training begin-------------\nEpoch: 035, LR: 0.000700, Loss: 0.3694822, Validation MAE: 4.8182575, Test MAE: 3.1575541\n-----------training begin-------------\nEpoch: 036, LR: 0.000700, Loss: 0.3777990, Validation MAE: 3.8120978, Test MAE: 3.1575541\n-----------training begin-------------\nEpoch: 037, LR: 0.000700, Loss: 0.3517613, Validation MAE: 3.5245204, Test MAE: 3.1575541\n-----------training begin-------------\nEpoch: 038, LR: 0.000490, Loss: 0.3449297, Validation MAE: 3.9475653, Test MAE: 3.1575541\n-----------training begin-------------\nEpoch: 039, LR: 0.000490, Loss: 0.3576243, Validation MAE: 3.9750546, Test MAE: 3.1575541\n-----------training begin-------------\nEpoch: 040, LR: 0.000490, Loss: 0.3426232, Validation MAE: 3.6145979, Test MAE: 3.1575541\n-----------training begin-------------\nEpoch: 041, LR: 0.000490, Loss: 0.3454206, Validation MAE: 3.3157531, Test MAE: 3.1575541\n-----------training begin-------------\nEpoch: 042, LR: 0.000490, Loss: 0.3437570, Validation MAE: 3.1395784, Test MAE: 3.1171841\n-----------training begin-------------\nEpoch: 043, LR: 0.000490, Loss: 0.3489644, Validation MAE: 3.3371317, Test MAE: 3.1171841\n-----------training begin-------------\nEpoch: 044, LR: 0.000490, Loss: 0.3421787, Validation MAE: 3.2963588, Test MAE: 3.1171841\n-----------training begin-------------\nEpoch: 045, LR: 0.000490, Loss: 0.3255051, Validation MAE: 3.3074266, Test MAE: 3.1171841\n-----------training begin-------------\nEpoch: 046, LR: 0.000490, Loss: 0.3220041, Validation MAE: 3.6552134, Test MAE: 3.1171841\n-----------training begin-------------\nEpoch: 047, LR: 0.000490, Loss: 0.3297375, Validation MAE: 3.4051057, Test MAE: 3.1171841\n-----------training begin-------------\nEpoch: 048, LR: 0.000490, Loss: 0.3651725, Validation MAE: 3.3426637, Test MAE: 3.1171841\n-----------training begin-------------\nEpoch: 049, LR: 0.000343, Loss: 0.3365170, Validation MAE: 3.2145238, Test MAE: 3.1171841\n-----------training begin-------------\nEpoch: 050, LR: 0.000343, Loss: 0.3517220, Validation MAE: 3.6915882, Test MAE: 3.1171841\n-----------training begin-------------\nEpoch: 051, LR: 0.000343, Loss: 0.3222591, Validation MAE: 3.6677662, Test MAE: 3.1171841\n-----------training begin-------------\nEpoch: 052, LR: 0.000343, Loss: 0.3170547, Validation MAE: 3.2569598, Test MAE: 3.1171841\n-----------training begin-------------\nEpoch: 053, LR: 0.000343, Loss: 0.3072996, Validation MAE: 3.2516640, Test MAE: 3.1171841\n-----------training begin-------------\nEpoch: 054, LR: 0.000343, Loss: 0.3040434, Validation MAE: 3.2690556, Test MAE: 3.1171841\n-----------training begin-------------\nEpoch: 055, LR: 0.000240, Loss: 0.2996360, Validation MAE: 3.4003247, Test MAE: 3.1171841\n-----------training begin-------------\nEpoch: 056, LR: 0.000240, Loss: 0.2977682, Validation MAE: 3.2544731, Test MAE: 3.1171841\n-----------training begin-------------\nEpoch: 057, LR: 0.000240, Loss: 0.3005601, Validation MAE: 3.3398967, Test MAE: 3.1171841\n-----------training begin-------------\nEpoch: 058, LR: 0.000240, Loss: 0.2961749, Validation MAE: 3.3096115, Test MAE: 3.1171841\n-----------training begin-------------\nEpoch: 059, LR: 0.000240, Loss: 0.2965091, Validation MAE: 3.2566618, Test MAE: 3.1171841\n-----------training begin-------------\nEpoch: 060, LR: 0.000240, Loss: 0.2951426, Validation MAE: 3.5478498, Test MAE: 3.1171841\n-----------training begin-------------\nEpoch: 061, LR: 0.000168, Loss: 0.2906943, Validation MAE: 3.2011214, Test MAE: 3.1171841\n-----------training begin-------------\nEpoch: 062, LR: 0.000168, Loss: 0.2902983, Validation MAE: 3.4677058, Test MAE: 3.1171841\n-----------training begin-------------\nEpoch: 063, LR: 0.000168, Loss: 0.2936550, Validation MAE: 3.1870581, Test MAE: 3.1171841\n-----------training begin-------------\nEpoch: 064, LR: 0.000168, Loss: 0.2913467, Validation MAE: 3.3671440, Test MAE: 3.1171841\n-----------training begin-------------\nEpoch: 065, LR: 0.000168, Loss: 0.2967288, Validation MAE: 3.4010989, Test MAE: 3.1171841\n-----------training begin-------------\nEpoch: 066, LR: 0.000168, Loss: 0.2917962, Validation MAE: 3.3974243, Test MAE: 3.1171841\n-----------training begin-------------\nEpoch: 067, LR: 0.000118, Loss: 0.2890631, Validation MAE: 3.2673253, Test MAE: 3.1171841\n-----------training begin-------------\nEpoch: 068, LR: 0.000118, Loss: 0.2877564, Validation MAE: 3.3600508, Test MAE: 3.1171841\n-----------training begin-------------\nEpoch: 069, LR: 0.000118, Loss: 0.2873929, Validation MAE: 3.3545594, Test MAE: 3.1171841\n-----------training begin-------------\nEpoch: 070, LR: 0.000118, Loss: 0.2852086, Validation MAE: 3.3499733, Test MAE: 3.1171841\n-----------training begin-------------\nEpoch: 071, LR: 0.000118, Loss: 0.2853124, Validation MAE: 3.2405201, Test MAE: 3.1171841\n-----------training begin-------------\nEpoch: 072, LR: 0.000118, Loss: 0.2836021, Validation MAE: 3.4174052, Test MAE: 3.1171841\n-----------training begin-------------\nEpoch: 073, LR: 0.000082, Loss: 0.2829296, Validation MAE: 3.2540022, Test MAE: 3.1171841\n-----------training begin-------------\nEpoch: 074, LR: 0.000082, Loss: 0.2819770, Validation MAE: 3.3535282, Test MAE: 3.1171841\n-----------training begin-------------\nEpoch: 075, LR: 0.000082, Loss: 0.2822018, Validation MAE: 3.3021256, Test MAE: 3.1171841\n-----------training begin-------------\nEpoch: 076, LR: 0.000082, Loss: 0.2831718, Validation MAE: 3.3274632, Test MAE: 3.1171841\n-----------training begin-------------\nEpoch: 077, LR: 0.000082, Loss: 0.2823916, Validation MAE: 3.3236886, Test MAE: 3.1171841\n-----------training begin-------------\nEpoch: 078, LR: 0.000082, Loss: 0.2819778, Validation MAE: 3.3216729, Test MAE: 3.1171841\n-----------training begin-------------\nEpoch: 079, LR: 0.000058, Loss: 0.2817022, Validation MAE: 3.3078369, Test MAE: 3.1171841\n-----------training begin-------------\nEpoch: 080, LR: 0.000058, Loss: 0.2795210, Validation MAE: 3.3063946, Test MAE: 3.1171841\n-----------training begin-------------\nEpoch: 081, LR: 0.000058, Loss: 0.2792570, Validation MAE: 3.3570868, Test MAE: 3.1171841\n-----------training begin-------------\nEpoch: 082, LR: 0.000058, Loss: 0.2793699, Validation MAE: 3.3296598, Test MAE: 3.1171841\n-----------training begin-------------\nEpoch: 083, LR: 0.000058, Loss: 0.2792028, Validation MAE: 3.2711554, Test MAE: 3.1171841\n-----------training begin-------------\nEpoch: 084, LR: 0.000058, Loss: 0.2788262, Validation MAE: 3.3244414, Test MAE: 3.1171841\n-----------training begin-------------\nEpoch: 085, LR: 0.000040, Loss: 0.2785653, Validation MAE: 3.2867194, Test MAE: 3.1171841\n-----------training begin-------------\nEpoch: 086, LR: 0.000040, Loss: 0.2782946, Validation MAE: 3.3621765, Test MAE: 3.1171841\n-----------training begin-------------\nEpoch: 087, LR: 0.000040, Loss: 0.2780254, Validation MAE: 3.2667394, Test MAE: 3.1171841\n-----------training begin-------------\nEpoch: 088, LR: 0.000040, Loss: 0.2788450, Validation MAE: 3.3178583, Test MAE: 3.1171841\n-----------training begin-------------\nEpoch: 089, LR: 0.000040, Loss: 0.2778857, Validation MAE: 3.3815979, Test MAE: 3.1171841\n-----------training begin-------------\nEpoch: 090, LR: 0.000040, Loss: 0.2772969, Validation MAE: 3.2766089, Test MAE: 3.1171841\n-----------training begin-------------\n"
    }
   ],
   "source": [
    "best_val_error = None\n",
    "for epoch in range(1, 301):\n",
    "    print('-----------training begin-------------')\n",
    "    lr = scheduler.optimizer.param_groups[0]['lr']\n",
    "    loss = train(epoch)\n",
    "    val_error = test(val_loader)\n",
    "    scheduler.step(val_error)\n",
    "\n",
    "    if best_val_error is None or val_error <= best_val_error:\n",
    "        test_error = test(test_loader)\n",
    "        best_val_error = val_error\n",
    "\n",
    "    print('Epoch: {:03d}, LR: {:7f}, Loss: {:.7f}, Validation MAE: {:.7f}, '\n",
    "          'Test MAE: {:.7f}'.format(epoch, lr, loss, val_error, test_error))"
   ]
  },
  {
   "cell_type": "code",
   "execution_count": null,
   "metadata": {},
   "outputs": [],
   "source": []
  }
 ],
 "metadata": {
  "language_info": {
   "codemirror_mode": {
    "name": "ipython",
    "version": 3
   },
   "file_extension": ".py",
   "mimetype": "text/x-python",
   "name": "python",
   "nbconvert_exporter": "python",
   "pygments_lexer": "ipython3",
   "version": 3
  },
  "orig_nbformat": 2,
  "kernelspec": {
   "name": "python_defaultSpec_1595470957503",
   "display_name": "Python 3.6.10 64-bit ('torch': conda)"
  }
 },
 "nbformat": 4,
 "nbformat_minor": 2
}